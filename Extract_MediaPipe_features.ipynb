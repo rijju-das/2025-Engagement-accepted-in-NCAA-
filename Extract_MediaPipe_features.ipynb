{
  "cells": [
    {
      "cell_type": "code",
      "source": [
        "!pip install mediapipe"
      ],
      "metadata": {
        "id": "lUn4oVqG8Qhp"
      },
      "execution_count": null,
      "outputs": []
    },
    {
      "cell_type": "code",
      "execution_count": 3,
      "metadata": {
        "id": "cyeX-CFIRO9J"
      },
      "outputs": [],
      "source": [
        "import cv2\n",
        "import mediapipe as mp\n",
        "import itertools\n",
        "import numpy as np\n",
        "import os\n",
        "from time import time\n",
        "import pandas as pd\n",
        "import matplotlib.pyplot as plt"
      ]
    },
    {
      "cell_type": "code",
      "source": [
        "!git clone https://github.com/riju-jec/Student-engagement.git"
      ],
      "metadata": {
        "colab": {
          "base_uri": "https://localhost:8080/"
        },
        "id": "tnOP8mOT8Il-",
        "outputId": "b342de94-95f6-43a2-bf9a-4f0457f0cec3"
      },
      "execution_count": 4,
      "outputs": [
        {
          "output_type": "stream",
          "name": "stdout",
          "text": [
            "Cloning into 'Student-engagement'...\n",
            "remote: Enumerating objects: 4444, done.\u001b[K\n",
            "remote: Counting objects: 100% (4444/4444), done.\u001b[K\n",
            "remote: Compressing objects: 100% (4438/4438), done.\u001b[K\n",
            "remote: Total 4444 (delta 6), reused 4439 (delta 4), pack-reused 0\u001b[K\n",
            "Receiving objects: 100% (4444/4444), 39.87 MiB | 19.98 MiB/s, done.\n",
            "Resolving deltas: 100% (6/6), done.\n"
          ]
        }
      ]
    },
    {
      "cell_type": "code",
      "source": [
        "%cd /content/Student-engagement"
      ],
      "metadata": {
        "colab": {
          "base_uri": "https://localhost:8080/"
        },
        "id": "hpFvtj0b8dV9",
        "outputId": "87e9df5c-897e-4074-f512-37ee021eccd4"
      },
      "execution_count": 5,
      "outputs": [
        {
          "output_type": "stream",
          "name": "stdout",
          "text": [
            "/content/Student-engagement\n"
          ]
        }
      ]
    },
    {
      "cell_type": "code",
      "source": [
        "import mediaPipeFeatureExtraction as fmp"
      ],
      "metadata": {
        "id": "KREx5LzydmYa"
      },
      "execution_count": 6,
      "outputs": []
    },
    {
      "cell_type": "code",
      "source": [
        "path1 = \"/content/Student-engagement/WACV data/dataset/1\"\n",
        "path2 = \"/content/Student-engagement/WACV data/dataset/2\"\n",
        "path3 = \"/content/Student-engagement/WACV data/dataset/3\"\n",
        "\n",
        "df_OF0 = pd.read_csv(\"/content/Student-engagement/WACV data/processedData0.csv\")\n",
        "df_OF1 = pd.read_csv(\"/content/Student-engagement/WACV data/processedData1.csv\")\n",
        "df_OF2 = pd.read_csv(\"/content/Student-engagement/WACV data/processedData2.csv\")"
      ],
      "metadata": {
        "id": "40PrT5N0T5fd"
      },
      "execution_count": 10,
      "outputs": []
    },
    {
      "cell_type": "code",
      "execution_count": 11,
      "metadata": {
        "scrolled": false,
        "id": "6q0SNShQRO9P"
      },
      "outputs": [],
      "source": [
        "lm_dic0 = fmp.faceMesh_extract(path1,False)\n",
        "lm_dic1 = fmp.faceMesh_extract(path2,False)\n",
        "lm_dic2 = fmp.faceMesh_extract(path3,False)"
      ]
    },
    {
      "cell_type": "code",
      "source": [
        "df_merge0 = fmp.buildFeatureDataframe(lm_dic0,0,df_OF0)\n",
        "df_merge1 = fmp.buildFeatureDataframe(lm_dic1,1,df_OF1)\n",
        "df_merge2 = fmp.buildFeatureDataframe(lm_dic2,2,df_OF2)"
      ],
      "metadata": {
        "id": "58AeFvaIV0EB"
      },
      "execution_count": 12,
      "outputs": []
    },
    {
      "cell_type": "code",
      "source": [
        "df_merge0.to_csv(\"/content/Student-engagement/WACV data/merged_data0.csv\")\n",
        "df_merge1.to_csv(\"/content/Student-engagement/WACV data/merged_data1.csv\")\n",
        "df_merge2.to_csv(\"/content/Student-engagement/WACV data/merged_data2.csv\")"
      ],
      "metadata": {
        "id": "es69D_ZEWdgj"
      },
      "execution_count": 13,
      "outputs": []
    }
  ],
  "metadata": {
    "kernelspec": {
      "display_name": "Python 3",
      "language": "python",
      "name": "python3"
    },
    "language_info": {
      "codemirror_mode": {
        "name": "ipython",
        "version": 3
      },
      "file_extension": ".py",
      "mimetype": "text/x-python",
      "name": "python",
      "nbconvert_exporter": "python",
      "pygments_lexer": "ipython3",
      "version": "3.6.10"
    },
    "colab": {
      "provenance": []
    }
  },
  "nbformat": 4,
  "nbformat_minor": 0
}