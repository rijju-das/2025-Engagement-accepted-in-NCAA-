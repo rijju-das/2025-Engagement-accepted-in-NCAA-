{
  "cells": [
    {
      "cell_type": "markdown",
      "metadata": {
        "id": "58RiQOiqgiJA"
      },
      "source": [
        "# Install OpenFace"
      ]
    },
    {
      "cell_type": "code",
      "execution_count": null,
      "metadata": {
        "id": "il-ttwD7ggr4"
      },
      "outputs": [],
      "source": [
        "import os\n",
        "from os.path import exists, join, basename, splitext"
      ]
    },
    {
      "cell_type": "code",
      "source": [
        "################# Need to revert back to CUDA 10.0 ##################\n",
        "# Thanks to http://aconcaguasci.blogspot.com/2019/12/setting-up-cuda-100-for-mxnet-on-google.html\n",
        "#Uninstall the current CUDA version\n",
        "!apt-get --purge remove cuda nvidia* libnvidia-*\n",
        "!dpkg -l | grep cuda- | awk '{print $2}' | xargs -n1 dpkg --purge\n",
        "!apt-get remove cuda-*\n",
        "!apt autoremove\n",
        "!apt-get update"
      ],
      "metadata": {
        "id": "8pPCPD0LWfHH"
      },
      "execution_count": null,
      "outputs": []
    },
    {
      "cell_type": "code",
      "source": [
        "#Download CUDA 10.0\n",
        "!wget  --no-clobber https://developer.download.nvidia.com/compute/cuda/repos/ubuntu1804/x86_64/cuda-repo-ubuntu1804_10.0.130-1_amd64.deb\n",
        "#install CUDA kit dpkg\n",
        "!dpkg -i cuda-repo-ubuntu1804_10.0.130-1_amd64.deb\n",
        "!sudo apt-key adv --fetch-keys https://developer.download.nvidia.com/compute/cuda/repos/ubuntu1804/x86_64/7fa2af80.pub\n",
        "!apt-get update\n",
        "!apt-get install cuda-10-0\n",
        "#Slove libcurand.so.10 error\n",
        "!wget --no-clobber http://developer.download.nvidia.com/compute/machine-learning/repos/ubuntu1804/x86_64/nvidia-machine-learning-repo-ubuntu1804_1.0.0-1_amd64.deb\n",
        "#-nc, --no-clobber: skip downloads that would download to existing files.\n",
        "!apt install ./nvidia-machine-learning-repo-ubuntu1804_1.0.0-1_amd64.deb\n",
        "!apt-get update"
      ],
      "metadata": {
        "id": "2pfTdTJqWiM7"
      },
      "execution_count": null,
      "outputs": []
    },
    {
      "cell_type": "code",
      "source": [
        "# ####################################################################\n",
        "\n",
        "git_repo_url = 'https://github.com/TadasBaltrusaitis/OpenFace.git'\n",
        "project_name = splitext(basename(git_repo_url))[0]\n",
        "# clone openface\n",
        "!git clone -q --depth 1 $git_repo_url"
      ],
      "metadata": {
        "id": "v_3P5T40Wm5h"
      },
      "execution_count": null,
      "outputs": []
    },
    {
      "cell_type": "code",
      "execution_count": null,
      "metadata": {
        "id": "z7CN_wcs8i7H"
      },
      "outputs": [],
      "source": [
        "# install new CMake becaue of CUDA10\n",
        "!wget -q https://cmake.org/files/v3.13/cmake-3.13.0-Linux-x86_64.tar.gz\n",
        "!tar xfz cmake-3.13.0-Linux-x86_64.tar.gz --strip-components=1 -C /usr/local\n",
        "\n",
        "# Get newest GCC\n",
        "!sudo apt-get update\n",
        "!sudo apt-get install build-essential \n",
        "!sudo apt-get install g++-8\n",
        "\n",
        "#added 5/15/2022. Thanks to @weskhoo\n",
        "!sudo apt-key del 7fa2af80\n",
        "!sudo apt-key adv --fetch-keys http://developer.download.nvidia.com/compute/cuda/repos/ubuntu1604/x86_64/3bf863cc.pub\n",
        "\n",
        "# install python dependencies\n",
        "!pip install -q youtube-dl\n",
        "\n",
        "# Finally, actually install OpenFace\n",
        "!cd OpenFace && bash ./download_models.sh && sudo bash ./install.sh"
      ]
    },
    {
      "cell_type": "markdown",
      "source": [
        "# Run OpenFace on WACV images"
      ],
      "metadata": {
        "id": "GpdbEZORX8WC"
      }
    },
    {
      "cell_type": "code",
      "source": [
        "!git clone https://github.com/riju-jec/Student-engagement.git"
      ],
      "metadata": {
        "id": "1yqIjiju_kWO"
      },
      "execution_count": null,
      "outputs": []
    },
    {
      "cell_type": "code",
      "execution_count": null,
      "metadata": {
        "id": "ZNmjqSvG9802"
      },
      "outputs": [],
      "source": [
        "\n",
        "!./OpenFace/build/bin/FaceLandmarkImg -fdir \"/content/Student-engagement/WACV data/dataset/1\" -out_dir '/content/Student-engagement/WACV data/dataset/processed0'\n",
        "\n",
        "!./OpenFace/build/bin/FaceLandmarkImg -fdir \"/content/Student-engagement/WACV data/dataset/2\" -out_dir '/content/Student-engagement/WACV data/dataset/processed1'\n",
        "\n",
        "!./OpenFace/build/bin/FaceLandmarkImg -fdir \"/content/Student-engagement/WACV data/dataset/3\" -out_dir '/content/Student-engagement/WACV data/dataset/processed2'\n"
      ]
    },
    {
      "cell_type": "code",
      "execution_count": null,
      "metadata": {
        "id": "W2Tg9fVZXa7r"
      },
      "outputs": [],
      "source": [
        "import os\n",
        "import glob\n",
        "import pandas as pd"
      ]
    },
    {
      "cell_type": "code",
      "source": [
        "def generateCSV(label):\n",
        "  extension = 'csv'\n",
        "  all_filenames = [i for i in glob.glob('*.{}'.format(extension))]\n",
        "  #combine all files in the list\n",
        "  ld=[]\n",
        "  for f in all_filenames:\n",
        "    dftemp = pd.read_csv(f)\n",
        "    dftemp.insert(loc=0, column=\"ImageID\",value=f.partition('.')[0])\n",
        "    dftemp = dftemp.assign(Label=label)\n",
        "    ld.append(dftemp)\n",
        "  proData = pd.concat(ld)\n",
        "  return proData"
      ],
      "metadata": {
        "id": "rPaIORiFY6nJ"
      },
      "execution_count": null,
      "outputs": []
    },
    {
      "cell_type": "code",
      "source": [
        "%cd /content/Student-engagement/WACV data/dataset/processed0\n",
        "proData0 = generateCSV(0)\n",
        "%cd /content/Student-engagement/WACV data/dataset/processed1\n",
        "proData1 = generateCSV(1)\n",
        "%cd /content/Student-engagement/WACV data/dataset/processed2\n",
        "proData2 = generateCSV(2)"
      ],
      "metadata": {
        "colab": {
          "base_uri": "https://localhost:8080/"
        },
        "id": "JFHImE8mrV4_",
        "outputId": "65ed2dd8-753d-40b9-a8ca-5461b23aec47"
      },
      "execution_count": null,
      "outputs": [
        {
          "output_type": "stream",
          "name": "stdout",
          "text": [
            "/content/drive/MyDrive/WACD_engg_data/dataset/processed0\n",
            "/content/drive/MyDrive/WACD_engg_data/dataset/processed1\n",
            "/content/drive/MyDrive/WACD_engg_data/dataset/processed2\n"
          ]
        }
      ]
    },
    {
      "cell_type": "code",
      "source": [
        "proData0"
      ],
      "metadata": {
        "id": "qVLCoM2mtbr2"
      },
      "execution_count": null,
      "outputs": []
    },
    {
      "cell_type": "code",
      "source": [
        "proData1"
      ],
      "metadata": {
        "id": "dvdR2v6ptfol"
      },
      "execution_count": null,
      "outputs": []
    },
    {
      "cell_type": "code",
      "source": [
        "proData = pd.concat([proData0,proData1,proData2])"
      ],
      "metadata": {
        "id": "s0iWLxcetg6B"
      },
      "execution_count": null,
      "outputs": []
    },
    {
      "cell_type": "code",
      "source": [
        "#export to csv\n",
        "proData0.to_csv( \"/content/Student-engagement/WACV data/processedData0.csv\", index=False, encoding='utf-8-sig')\n",
        "proData1.to_csv( \"/content/Student-engagement/WACV data/processedData1.csv\", index=False, encoding='utf-8-sig')\n",
        "proData2.to_csv( \"/content/Student-engagement/WACV data/processedData2.csv\", index=False, encoding='utf-8-sig')"
      ],
      "metadata": {
        "id": "7_wQ77LOtqWq"
      },
      "execution_count": null,
      "outputs": []
    },
    {
      "cell_type": "code",
      "source": [
        "prodata.to_CSV(\"/content/Student-engagement/WACV data/processedDataOF.csv\", index=False, encoding='utf-8-sig')"
      ],
      "metadata": {
        "id": "6vTNLg5KAl_6"
      },
      "execution_count": null,
      "outputs": []
    }
  ],
  "metadata": {
    "colab": {
      "collapsed_sections": [
        "jj1_15wq3tCn",
        "qrNz7LeK4kIp",
        "gB8UCEdjWT-P",
        "lA872ogc4HM0"
      ],
      "provenance": []
    },
    "kernelspec": {
      "display_name": "Python 3",
      "name": "python3"
    },
    "language_info": {
      "name": "python"
    },
    "accelerator": "GPU",
    "gpuClass": "standard"
  },
  "nbformat": 4,
  "nbformat_minor": 0
}