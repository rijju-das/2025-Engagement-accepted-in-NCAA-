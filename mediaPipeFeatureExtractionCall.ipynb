{
  "cells": [
    {
      "cell_type": "code",
      "execution_count": 158,
      "metadata": {
        "id": "cyeX-CFIRO9J"
      },
      "outputs": [],
      "source": [
        "import cv2\n",
        "import mediapipe as mp\n",
        "import itertools\n",
        "import numpy as np\n",
        "import os\n",
        "from time import time\n",
        "import pandas as pd\n",
        "import matplotlib.pyplot as plt"
      ]
    },
    {
      "cell_type": "code",
      "source": [
        "import mediaPipeFeatureExtraction as fmp"
      ],
      "metadata": {
        "id": "KREx5LzydmYa"
      },
      "execution_count": 159,
      "outputs": []
    },
    {
      "cell_type": "code",
      "source": [
        "path1 = \"/content/drive/MyDrive/WACD_engg_data/dataset/1\"\n",
        "path2 = \"/content/drive/MyDrive/WACD_engg_data/dataset/2\"\n",
        "path3 = \"/content/drive/MyDrive/WACD_engg_data/dataset/3\"\n",
        "\n",
        "df_OF0 = pd.read_csv(\"/content/drive/MyDrive/WACD_engg_data/processedData0.csv\")\n",
        "df_OF1 = pd.read_csv(\"/content/drive/MyDrive/WACD_engg_data/processedData1.csv\")\n",
        "df_OF2 = pd.read_csv(\"/content/drive/MyDrive/WACD_engg_data/processedData2.csv\")"
      ],
      "metadata": {
        "id": "40PrT5N0T5fd"
      },
      "execution_count": 160,
      "outputs": []
    },
    {
      "cell_type": "code",
      "execution_count": 161,
      "metadata": {
        "scrolled": false,
        "id": "6q0SNShQRO9P"
      },
      "outputs": [],
      "source": [
        "lm_dic0 = fmp.faceMesh_extract(path1,False)\n",
        "lm_dic1 = fmp.faceMesh_extract(path2,False)\n",
        "lm_dic2 = fmp.faceMesh_extract(path3,False)"
      ]
    },
    {
      "cell_type": "code",
      "source": [
        "df_merge0 = fmp.buildFeatureDataframe(lm_dic0,0,df_OF0)\n",
        "df_merge1 = fmp.buildFeatureDataframe(lm_dic1,1,df_OF1)\n",
        "df_merge2 = fmp.buildFeatureDataframe(lm_dic2,2,df_OF2)"
      ],
      "metadata": {
        "id": "58AeFvaIV0EB"
      },
      "execution_count": 162,
      "outputs": []
    },
    {
      "cell_type": "code",
      "source": [
        "df_merge0.to_csv(\"/content/drive/MyDrive/WACD_engg_data/merged_data0.csv\")\n",
        "df_merge1.to_csv(\"/content/drive/MyDrive/WACD_engg_data/merged_data1.csv\")\n",
        "df_merge2.to_csv(\"/content/drive/MyDrive/WACD_engg_data/merged_data2.csv\")"
      ],
      "metadata": {
        "id": "es69D_ZEWdgj"
      },
      "execution_count": 163,
      "outputs": []
    }
  ],
  "metadata": {
    "kernelspec": {
      "display_name": "Python 3",
      "language": "python",
      "name": "python3"
    },
    "language_info": {
      "codemirror_mode": {
        "name": "ipython",
        "version": 3
      },
      "file_extension": ".py",
      "mimetype": "text/x-python",
      "name": "python",
      "nbconvert_exporter": "python",
      "pygments_lexer": "ipython3",
      "version": "3.6.10"
    },
    "colab": {
      "provenance": []
    }
  },
  "nbformat": 4,
  "nbformat_minor": 0
}